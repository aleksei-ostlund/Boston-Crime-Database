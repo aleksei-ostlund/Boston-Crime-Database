{
 "cells": [
  {
   "cell_type": "code",
   "execution_count": null,
   "id": "6496f801",
   "metadata": {},
   "outputs": [],
   "source": [
    "#create new database to contain Boston crime data\n",
    "import psycopg2\n",
    "conn = psycopg2.connect(dbname=\"postgres\", user=\"postgres\", password=\"practiceserver\")\n",
    "cur = conn.cursor()\n",
    "conn.autocommit = True\n",
    "cur.execute(\"CREATE DATABASE boston_crime_db\")\n",
    "conn.autocommit = False\n",
    "conn.close()"
   ]
  },
  {
   "cell_type": "code",
   "execution_count": 13,
   "id": "2c52f9e5",
   "metadata": {},
   "outputs": [],
   "source": [
    "#create a crimes schema\n",
    "conn = psycopg2.connect(dbname=\"boston_crime_db\", user=\"postgres\", password=\"practiceserver\") \n",
    "cur = conn.cursor()\n",
    "cur.execute(\"CREATE SCHEMA crimes\")\n",
    "conn.commit()\n",
    "conn.close()"
   ]
  },
  {
   "cell_type": "code",
   "execution_count": 19,
   "id": "9f90c50c",
   "metadata": {},
   "outputs": [
    {
     "name": "stdout",
     "output_type": "stream",
     "text": [
      "['incident_number', 'offense_code', 'description', 'date', 'day_of_the_week', 'lat', 'long'] \n",
      " ['1', '619', 'LARCENY ALL OTHERS', '2018-09-02', 'Sunday', '42.35779134', '-71.13937053']\n"
     ]
    }
   ],
   "source": [
    "#print the headers and first row from the csv file\n",
    "import csv\n",
    "with open(\"boston_crimes.csv\") as file:\n",
    "    boston_read = csv.reader(file)\n",
    "    headers = next(boston_read)\n",
    "    first_row = next(boston_read)\n",
    "    print(headers,\"\\n\", first_row)"
   ]
  },
  {
   "cell_type": "code",
   "execution_count": 35,
   "id": "72150c71",
   "metadata": {},
   "outputs": [],
   "source": [
    "#create a function returning a set of column values\n",
    "def get_column(csv_file, col_index):\n",
    "    col_contents = set()\n",
    "    import csv\n",
    "    with open(csv_file) as file:\n",
    "        next(file)\n",
    "        read_file = csv.reader(file)\n",
    "        for row in read_file:\n",
    "            col_content = row[col_index]\n",
    "            col_contents.add(col_content)\n",
    "    return col_contents        "
   ]
  },
  {
   "cell_type": "code",
   "execution_count": 42,
   "id": "2826398d",
   "metadata": {},
   "outputs": [
    {
     "name": "stdout",
     "output_type": "stream",
     "text": [
      "incident_number -- 298329\n",
      "offense_code -- 219\n",
      "description -- 239\n",
      "date -- 1177\n",
      "day_of_the_week -- 7\n",
      "lat -- 18177\n",
      "long -- 18177\n"
     ]
    }
   ],
   "source": [
    "#find the number of unique values in each column\n",
    "for column in range(len(headers)):\n",
    "    column_contents = get_column(\"boston_crimes.csv\", column)\n",
    "    print(headers[column], len(column_contents), sep=\" -- \")"
   ]
  },
  {
   "cell_type": "code",
   "execution_count": 53,
   "id": "04dfa873",
   "metadata": {},
   "outputs": [
    {
     "name": "stdout",
     "output_type": "stream",
     "text": [
      "58  ->  RECOVERED - MV RECOVERED IN BOSTON (STOLEN OUTSIDE BOSTON)\n"
     ]
    }
   ],
   "source": [
    "#description column would contain the most characters, find max length of 58\n",
    "description_col = get_column(\"boston_crimes.csv\", 2)\n",
    "\n",
    "longest_char = 0\n",
    "char = \"blank\"\n",
    "for value in description_col:\n",
    "    value_length = len(value)\n",
    "    if value_length > longest_char:\n",
    "        longest_char = value_length\n",
    "        char = value\n",
    "print(longest_char,\" -> \",char)    "
   ]
  },
  {
   "cell_type": "code",
   "execution_count": 65,
   "id": "1915a607",
   "metadata": {},
   "outputs": [
    {
     "name": "stdout",
     "output_type": "stream",
     "text": [
      "['incident_number', 'offense_code', 'description', 'date', 'day_of_the_week', 'lat', 'long'] \n",
      " ['1', '619', 'LARCENY ALL OTHERS', '2018-09-02', 'Sunday', '42.35779134', '-71.13937053']\n"
     ]
    }
   ],
   "source": [
    "#creating a new table in the database\n",
    "conn = psycopg2.connect(dbname=\"boston_crime_db\", user=\"postgres\", password=\"practiceserver\") \n",
    "cur = conn.cursor()\n",
    "\n",
    "print(headers,\"\\n\",first_row)\n",
    "\n",
    "#enumerate days of the week as there are only 7 fixed values\n",
    "cur.execute(\"\"\"\n",
    "CREATE TYPE day AS ENUM('Monday', 'Tuesday', 'Wednesday', 'Thursday', 'Friday', 'Saturday', 'Sunday')\n",
    "\"\"\")\n",
    "\n",
    "#use varchar 100 for description column to give leeway for max of 58 characters\n",
    "cur.execute(\"\"\"\n",
    "CREATE TABLE crimes.boston_crimes (\n",
    "incident_number integer PRIMARY KEY,\n",
    "offense_code integer,\n",
    "description varchar(100),\n",
    "date date,\n",
    "day_of_the_week day,\n",
    "lat decimal,\n",
    "long decimal)\n",
    "\"\"\")\n",
    "\n",
    "conn.commit()"
   ]
  },
  {
   "cell_type": "code",
   "execution_count": 71,
   "id": "f8702ef8",
   "metadata": {},
   "outputs": [],
   "source": [
    "#load the data from the csv into the table\n",
    "with open(\"boston_crimes.csv\") as file:\n",
    "    cur.copy_expert(\"COPY crimes.boston_crimes FROM STDIN WITH CSV HEADER\",file)\n",
    "conn.commit()"
   ]
  },
  {
   "cell_type": "code",
   "execution_count": 76,
   "id": "3a17c744",
   "metadata": {},
   "outputs": [
    {
     "data": {
      "text/plain": [
       "[(1,\n",
       "  619,\n",
       "  'LARCENY ALL OTHERS',\n",
       "  datetime.date(2018, 9, 2),\n",
       "  'Sunday',\n",
       "  Decimal('42.35779134'),\n",
       "  Decimal('-71.13937053')),\n",
       " (2,\n",
       "  1402,\n",
       "  'VANDALISM',\n",
       "  datetime.date(2018, 8, 21),\n",
       "  'Tuesday',\n",
       "  Decimal('42.30682138'),\n",
       "  Decimal('-71.06030035')),\n",
       " (3,\n",
       "  3410,\n",
       "  'TOWED MOTOR VEHICLE',\n",
       "  datetime.date(2018, 9, 3),\n",
       "  'Monday',\n",
       "  Decimal('42.34658879'),\n",
       "  Decimal('-71.07242943'))]"
      ]
     },
     "execution_count": 76,
     "metadata": {},
     "output_type": "execute_result"
    }
   ],
   "source": [
    "#verify\n",
    "cur.execute(\"SELECT* FROM crimes.boston_crimes LIMIT 3\")\n",
    "cur.fetchall()"
   ]
  },
  {
   "cell_type": "code",
   "execution_count": 80,
   "id": "0d86e769",
   "metadata": {},
   "outputs": [],
   "source": [
    "#revoke privileges from the public group on the public schema\n",
    "#revoke privileges on the new database from the public group\n",
    "cur.execute(\"REVOKE ALL ON SCHEMA public FROM public\")\n",
    "cur.execute(\"REVOKE ALL ON DATABASE boston_crime_db FROM public\")"
   ]
  },
  {
   "cell_type": "code",
   "execution_count": 87,
   "id": "02f6c802",
   "metadata": {},
   "outputs": [],
   "source": [
    "#create a read and read/write group\n",
    "cur.execute(\"CREATE GROUP read NOLOGIN\")\n",
    "cur.execute(\"CREATE GROUP readwrite NOLOGIN\")\n",
    "\n",
    "#give both the ability to connect to the database\n",
    "cur.execute(\"GRANT CONNECT ON DATABASE boston_crime_db TO read\")\n",
    "cur.execute(\"GRANT CONNECT ON DATABASE boston_crime_db TO readwrite\")\n",
    "\n",
    "#give both access to the crimes schema\n",
    "cur.execute(\"GRANT USAGE ON SCHEMA crimes TO read\")\n",
    "cur.execute(\"GRANT USAGE ON SCHEMA crimes TO readwrite\")\n",
    "\n",
    "#give the read group the ability to use select statements\n",
    "#give the read/write group the ability to also insert, delete, and update tables\n",
    "cur.execute(\"GRANT SELECT ON ALL TABLES IN SCHEMA crimes TO read\")\n",
    "cur.execute(\"GRANT SELECT, INSERT, DELETE, UPDATE ON ALL TABLES IN SCHEMA crimes TO readwrite\")\n",
    "\n",
    "conn.commit()"
   ]
  },
  {
   "cell_type": "code",
   "execution_count": 99,
   "id": "7a353eff",
   "metadata": {},
   "outputs": [
    {
     "data": {
      "text/plain": [
       "[('postgres', 'read', 'SELECT'),\n",
       " ('postgres', 'readwrite', 'INSERT'),\n",
       " ('postgres', 'readwrite', 'SELECT'),\n",
       " ('postgres', 'readwrite', 'UPDATE'),\n",
       " ('postgres', 'readwrite', 'DELETE')]"
      ]
     },
     "execution_count": 99,
     "metadata": {},
     "output_type": "execute_result"
    }
   ],
   "source": [
    "#verify privileges\n",
    "cur.execute(\"\"\"\n",
    "SELECT grantor, grantee, privilege_type \n",
    "FROM information_schema.table_privileges \n",
    "WHERE grantee ='read' OR grantee ='readwrite'\n",
    "\"\"\")\n",
    "cur.fetchall()"
   ]
  },
  {
   "cell_type": "code",
   "execution_count": 100,
   "id": "ba26d480",
   "metadata": {},
   "outputs": [],
   "source": [
    "#create sample users for both groups\n",
    "cur.execute(\"CREATE USER example_reader WITH PASSWORD 'examplepassword1'\")\n",
    "cur.execute(\"CREATE USER example_readwriter WITH PASSWORD 'examplepassword2'\")\n",
    "\n",
    "#assign the sample users to respective groups\n",
    "cur.execute(\"GRANT read TO example_reader\")\n",
    "cur.execute(\"GRANT readwrite TO example_readwriter\")\n",
    "conn.commit()"
   ]
  }
 ],
 "metadata": {
  "kernelspec": {
   "display_name": "Python 3 (ipykernel)",
   "language": "python",
   "name": "python3"
  },
  "language_info": {
   "codemirror_mode": {
    "name": "ipython",
    "version": 3
   },
   "file_extension": ".py",
   "mimetype": "text/x-python",
   "name": "python",
   "nbconvert_exporter": "python",
   "pygments_lexer": "ipython3",
   "version": "3.9.12"
  }
 },
 "nbformat": 4,
 "nbformat_minor": 5
}
